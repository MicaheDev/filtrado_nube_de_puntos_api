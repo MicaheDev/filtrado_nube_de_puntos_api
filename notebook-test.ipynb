{
 "cells": [
  {
   "cell_type": "code",
   "execution_count": 1,
   "metadata": {},
   "outputs": [],
   "source": [
    "import pandas as pd\n",
    "import matplotlib.pyplot as plt\n",
    "from PIL import Image\n",
    "import numpy as np\n",
    "import sys\n",
    "import os\n",
    "from utils import ply_to_dataframe, test_model, plot_point_cloud_xyz\n",
    "import laspy\n",
    "from plyfile import PlyData\n",
    "import xgboost as xgb\n",
    "from sklearn.preprocessing import StandardScaler"
   ]
  },
  {
   "cell_type": "code",
   "execution_count": 2,
   "metadata": {},
   "outputs": [],
   "source": [
    "# DATA\n",
    "data = \"data/RA_points.ply\"\n",
    "df = ply_to_dataframe(data)\n",
    "# LOAD MODEL\n",
    "booster = xgb.Booster()\n",
    "booster.load_model(\"cat-model-hans.json\")"
   ]
  },
  {
   "cell_type": "code",
   "execution_count": 3,
   "metadata": {},
   "outputs": [],
   "source": [
    "# Mapeo de clases \n",
    "mapeo_clases = {\n",
    "    1: 0,\n",
    "    2: 1,\n",
    "    5: 2,\n",
    "    11: 3,\n",
    "    13: 4,\n",
    "    14: 5,\n",
    "    15: 6,\n",
    "    18: 7,\n",
    "    19: 8\n",
    "}\n",
    "\n",
    "# Aplicar el mapeo a la columna 'class'\n",
    "df['class'] = df['class'].map(mapeo_clases)\n",
    "df[\"class\"]\n",
    "# seleccion de variables\n",
    "d = df.iloc[:, :3] # x,y,z\n",
    "t = df[\"class\"] # class o target"
   ]
  },
  {
   "cell_type": "code",
   "execution_count": 4,
   "metadata": {},
   "outputs": [
    {
     "name": "stdout",
     "output_type": "stream",
     "text": [
      "dataframe de la clases:0          1\n",
      "1          1\n",
      "2          1\n",
      "3          1\n",
      "4          6\n",
      "          ..\n",
      "6825060    4\n",
      "6825061    4\n",
      "6825062    4\n",
      "6825063    4\n",
      "6825064    4\n",
      "Name: class, Length: 6825065, dtype: int64\n",
      "dataframe de las coordenadas:                   x           y         z\n",
      "0       -123.019356 -121.934380  4.985402\n",
      "1       -122.912193 -121.954681  4.996438\n",
      "2       -122.829506 -122.109718  4.836177\n",
      "3       -122.943787 -122.038712  4.884180\n",
      "4       -122.700966 -132.812653  2.789504\n",
      "...             ...         ...       ...\n",
      "6825060   14.005584   -5.761790  3.609277\n",
      "6825061   14.742920  -12.828125  3.425181\n",
      "6825062   14.661809  -11.937943  3.584976\n",
      "6825063   14.603197  -11.863029  3.620526\n",
      "6825064   13.751492  -12.420531  3.364453\n",
      "\n",
      "[6825065 rows x 3 columns]\n"
     ]
    }
   ],
   "source": [
    "print(f'dataframe de la clases:{t}')\n",
    "print(f'dataframe de las coordenadas: {d}')"
   ]
  },
  {
   "cell_type": "code",
   "execution_count": 5,
   "metadata": {},
   "outputs": [],
   "source": [
    "# Estandarizar las características\n",
    "scaler = StandardScaler()\n",
    "X_ = scaler.fit_transform(d)\n",
    "dtest_r = xgb.DMatrix(X_)\n",
    "# Realizar predicciones con el modelo\n"
   ]
  },
  {
   "cell_type": "code",
   "execution_count": 6,
   "metadata": {},
   "outputs": [],
   "source": [
    "pred = booster.predict(dtest_r)"
   ]
  },
  {
   "cell_type": "code",
   "execution_count": 7,
   "metadata": {},
   "outputs": [
    {
     "data": {
      "text/plain": [
       "(6825065, 9)"
      ]
     },
     "execution_count": 7,
     "metadata": {},
     "output_type": "execute_result"
    }
   ],
   "source": [
    "pred.shape"
   ]
  },
  {
   "cell_type": "code",
   "execution_count": 8,
   "metadata": {},
   "outputs": [
    {
     "data": {
      "text/plain": [
       "array([[9.5294816e-03, 9.8252594e-01, 3.1068005e-08, ..., 1.9211693e-06,\n",
       "        9.5871865e-04, 5.7973422e-04],\n",
       "       [6.5294961e-03, 9.8588318e-01, 2.1180456e-08, ..., 1.0262154e-06,\n",
       "        6.7446620e-04, 4.1875883e-04],\n",
       "       [5.6332952e-05, 9.6484828e-01, 1.1951069e-07, ..., 2.8800650e-04,\n",
       "        2.0654956e-02, 1.4136707e-02],\n",
       "       ...,\n",
       "       [3.0961242e-02, 6.3093668e-01, 2.7319245e-04, ..., 4.5372257e-03,\n",
       "        2.5199333e-01, 7.5326405e-02],\n",
       "       [3.0961242e-02, 6.3093668e-01, 2.7319245e-04, ..., 4.5372257e-03,\n",
       "        2.5199333e-01, 7.5326405e-02],\n",
       "       [3.2461211e-02, 6.2375993e-01, 9.3302988e-05, ..., 4.7570416e-03,\n",
       "        2.8559190e-01, 4.6630852e-02]], dtype=float32)"
      ]
     },
     "execution_count": 8,
     "metadata": {},
     "output_type": "execute_result"
    }
   ],
   "source": [
    "pred"
   ]
  },
  {
   "cell_type": "code",
   "execution_count": 9,
   "metadata": {},
   "outputs": [],
   "source": [
    "clases_predichas = []\n",
    "\n",
    "# Obtener las clases predichas para cada fila del array de probabilidades\n",
    "for fila in pred:\n",
    "    clase_predicha = np.argmax(fila)  # Obtener la clase con la probabilidad más alta\n",
    "    clase_mapeada = mapeo_clases.get(clase_predicha)  # Mapear la clase\n",
    "    if clase_mapeada is not None:\n",
    "        clases_predichas.append(clase_mapeada)\n",
    "\n",
    "valores_unicos = list(set(clases_predichas))\n"
   ]
  },
  {
   "cell_type": "code",
   "execution_count": 10,
   "metadata": {},
   "outputs": [
    {
     "data": {
      "text/plain": [
       "[0, 1, 2]"
      ]
     },
     "execution_count": 10,
     "metadata": {},
     "output_type": "execute_result"
    }
   ],
   "source": [
    "valores_unicos[:7]"
   ]
  },
  {
   "cell_type": "code",
   "execution_count": null,
   "metadata": {},
   "outputs": [],
   "source": []
  }
 ],
 "metadata": {
  "kernelspec": {
   "display_name": "myenv",
   "language": "python",
   "name": "python3"
  },
  "language_info": {
   "codemirror_mode": {
    "name": "ipython",
    "version": 3
   },
   "file_extension": ".py",
   "mimetype": "text/x-python",
   "name": "python",
   "nbconvert_exporter": "python",
   "pygments_lexer": "ipython3",
   "version": "3.12.2"
  }
 },
 "nbformat": 4,
 "nbformat_minor": 2
}
